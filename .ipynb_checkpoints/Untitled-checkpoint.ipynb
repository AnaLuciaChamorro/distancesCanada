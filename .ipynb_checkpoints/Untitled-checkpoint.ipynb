{
 "cells": [
  {
   "cell_type": "code",
   "execution_count": 3,
   "id": "7230679f",
   "metadata": {},
   "outputs": [
    {
     "data": {
      "text/plain": [
       "['country',\n",
       " 'cities',\n",
       " 'rivers',\n",
       " 'border',\n",
       " 'states',\n",
       " 'municipalities',\n",
       " 'airports']"
      ]
     },
     "execution_count": 3,
     "metadata": {},
     "output_type": "execute_result"
    }
   ],
   "source": [
    "brazilMapsLink=\"https://github.com/CienciaDeDatosEspacial/code_and_data/raw/main/maps/brazilMaps_5641.gpkg\"\n",
    "\n",
    "from  fiona import listlayers\n",
    "\n",
    "\n",
    "#layers in maps\n",
    "listlayers(brazilMapsLink)"
   ]
  },
  {
   "cell_type": "code",
   "execution_count": null,
   "id": "f6129016",
   "metadata": {},
   "outputs": [],
   "source": [
    "from platform import python_version\n",
    "\n",
    "print(python_version())"
   ]
  },
  {
   "cell_type": "code",
   "execution_count": 1,
   "id": "f175aaff",
   "metadata": {},
   "outputs": [],
   "source": []
  },
  {
   "cell_type": "code",
   "execution_count": 4,
   "id": "9bb72b81",
   "metadata": {
    "scrolled": true
   },
   "outputs": [],
   "source": [
    "# reading in the data:\n",
    "\n",
    "import os\n",
    "os.environ['USE_PYGEOS'] = '0' # only if you have pygeos\n",
    "\n",
    "import geopandas as gpd\n",
    "\n",
    "states=gpd.read_file(brazilMapsLink,layer='states')\n",
    "municipalities=gpd.read_file(brazilMapsLink,layer='municipalities')\n",
    "airports=gpd.read_file(brazilMapsLink,layer='airports')\n",
    "rivers=gpd.read_file(brazilMapsLink,layer='rivers')\n",
    "border=gpd.read_file(brazilMapsLink,layer='border')"
   ]
  },
  {
   "cell_type": "code",
   "execution_count": null,
   "id": "a101ef2e",
   "metadata": {},
   "outputs": [],
   "source": [
    "import pandas as pd \n",
    "infoseaports=pd.read_csv(os.path.join(\"data\",\"UpdatedPub150.csv\"))\n",
    "\n",
    "#columns available (so many)\n",
    "infoseaports.columns.to_list()"
   ]
  },
  {
   "cell_type": "code",
   "execution_count": null,
   "id": "a7115e8d",
   "metadata": {},
   "outputs": [],
   "source": [
    "infoseaports.rename(columns={'Main Port Name':'portName'},inplace=True)\n",
    "infoseaports=infoseaports.loc[:,['portName', 'Country Code','Latitude', 'Longitude']]\n",
    "infoseaports.info()"
   ]
  },
  {
   "cell_type": "code",
   "execution_count": null,
   "id": "175fea4d",
   "metadata": {},
   "outputs": [],
   "source": [
    "seaports=gpd.GeoDataFrame(data=infoseaports.copy(),\n",
    "                 geometry=gpd.points_from_xy(infoseaports.Longitude,\n",
    "                                             infoseaports.Latitude), \n",
    "                 crs=4326)# notice it is unprojected\n",
    "\n",
    "seaports_bra=seaports[seaports['Country Code']=='Brazil'].copy()\n",
    "\n",
    "seaports_bra.reset_index(drop=True, inplace=True)\n",
    "\n",
    "seaports_bra_5641=seaports_bra.to_crs(5641) # projected crs"
   ]
  },
  {
   "cell_type": "code",
   "execution_count": null,
   "id": "98adc406",
   "metadata": {},
   "outputs": [],
   "source": [
    "# subsetting\n",
    "largeAirports=airports[airports.kind=='large_airport'] \n",
    "largeAirports.reset_index(drop=True, inplace=True)\n",
    "\n",
    "#plotting\n",
    "base=largeAirports.plot(color='red',marker=\"^\")\n",
    "seaports_bra_5641.plot(ax=base,alpha=0.5,markersize=3)"
   ]
  },
  {
   "cell_type": "code",
   "execution_count": null,
   "id": "0c839295",
   "metadata": {},
   "outputs": [],
   "source": [
    "seaports_bra_5641.head()"
   ]
  },
  {
   "cell_type": "code",
   "execution_count": null,
   "id": "c2ca070d",
   "metadata": {},
   "outputs": [],
   "source": [
    "largeAirports.head()"
   ]
  },
  {
   "cell_type": "code",
   "execution_count": null,
   "id": "ce079bd0",
   "metadata": {},
   "outputs": [],
   "source": [
    "# distance between 'Guarulhos' and 'Dtse / Gegua Oil Terminal' in km\n",
    "largeAirports.iloc[0].geometry.distance(seaports_bra_5641.iloc[0].geometry)/1"
   ]
  },
  {
   "cell_type": "code",
   "execution_count": null,
   "id": "558a1b3b",
   "metadata": {},
   "outputs": [],
   "source": [
    "#try 1\n",
    "seaports_bra_5641.geometry.apply\\\n",
    "(lambda g: largeAirports.geometry.distance(g)/1000)"
   ]
  },
  {
   "cell_type": "code",
   "execution_count": null,
   "id": "d079bdc2",
   "metadata": {},
   "outputs": [],
   "source": [
    "# try 2\n",
    "seaports_bra_5641.set_index('portName').geometry.apply\\\n",
    "(lambda g: largeAirports.set_index('name').geometry.distance(g)/1000)"
   ]
  },
  {
   "cell_type": "code",
   "execution_count": null,
   "id": "c93cd999",
   "metadata": {},
   "outputs": [],
   "source": [
    "#ordenamos los nombres en orden alfabético\n",
    "#try 3\n",
    "seaports_bra_5641.set_index('portName').geometry.apply\\\n",
    "(lambda g: largeAirports.set_index('name').geometry.distance(g)/1000).\\\n",
    "sort_index(axis=0).sort_index(axis=1)"
   ]
  },
  {
   "cell_type": "code",
   "execution_count": null,
   "id": "c0ef5702",
   "metadata": {},
   "outputs": [],
   "source": [
    "#guardamos la matriz\n",
    "distanceMatrixKM_sea_air= seaports_bra_5641.set_index('portName').geometry.apply\\\n",
    "                          (lambda g: largeAirports.set_index('name').geometry.distance(g)/1000).\\\n",
    "                          sort_index(axis=0).sort_index(axis=1)"
   ]
  },
  {
   "cell_type": "code",
   "execution_count": null,
   "id": "7b7d880c",
   "metadata": {},
   "outputs": [],
   "source": [
    "#distancia promedio de un aeropuerto específico hacia los otros\n",
    "# the mean distance from a seaport to all the large airports (sorted)\n",
    "distanceMatrixKM_sea_air.mean(axis=1).sort_values(ascending=True)"
   ]
  },
  {
   "cell_type": "code",
   "execution_count": null,
   "id": "9ca02806",
   "metadata": {},
   "outputs": [],
   "source": [
    "# distancia promedio, mínima y máxima\n",
    "SomeStats=pd.DataFrame()\n",
    "SomeStats['mean']=distanceMatrixKM_sea_air.mean(axis=1)\n",
    "SomeStats['min']=distanceMatrixKM_sea_air.min(axis=1)\n",
    "SomeStats['max']=distanceMatrixKM_sea_air.max(axis=1)\n",
    "SomeStats.head()"
   ]
  },
  {
   "cell_type": "code",
   "execution_count": null,
   "id": "9a5f9321",
   "metadata": {},
   "outputs": [],
   "source": [
    "#lejanos\n",
    "# farthest airport to each seaport\n",
    "distanceMatrixKM_sea_air.idxmax(axis=\"columns\")"
   ]
  },
  {
   "cell_type": "code",
   "execution_count": null,
   "id": "ace213c6",
   "metadata": {},
   "outputs": [],
   "source": [
    "# farthest seaport to each airport\n",
    "distanceMatrixKM_sea_air.idxmax(axis=\"rows\")"
   ]
  },
  {
   "cell_type": "code",
   "execution_count": null,
   "id": "61f95b56",
   "metadata": {},
   "outputs": [],
   "source": [
    "#cercanos\n",
    "# closest airport to each seaport\n",
    "distanceMatrixKM_sea_air.idxmin(axis=\"columns\")"
   ]
  },
  {
   "cell_type": "code",
   "execution_count": null,
   "id": "9b3c3606",
   "metadata": {},
   "outputs": [],
   "source": [
    "# closest seaport to each airport\n",
    "distanceMatrixKM_sea_air.idxmin(axis=\"rows\")"
   ]
  },
  {
   "cell_type": "code",
   "execution_count": null,
   "id": "fb7c4f12",
   "metadata": {},
   "outputs": [],
   "source": [
    "#ejercicio 1"
   ]
  },
  {
   "cell_type": "code",
   "execution_count": null,
   "id": "1d393e6c",
   "metadata": {},
   "outputs": [],
   "source": [
    "rivers"
   ]
  },
  {
   "cell_type": "code",
   "execution_count": null,
   "id": "b0006e11",
   "metadata": {},
   "outputs": [],
   "source": [
    "#keep one:\n",
    "\n",
    "rivers[rivers.NAME.str.contains('Grande')]"
   ]
  },
  {
   "cell_type": "code",
   "execution_count": null,
   "id": "60bc3504",
   "metadata": {},
   "outputs": [],
   "source": [
    "rivers[rivers.NAME.str.contains('Grande')].iloc[0].geometry.distance(largeAirports.geometry)"
   ]
  },
  {
   "cell_type": "code",
   "execution_count": null,
   "id": "75e7e0ba",
   "metadata": {},
   "outputs": [],
   "source": [
    "#distancia de todos lod ríos a un aeropuerto\n",
    "distanceMatrixKM_riv_air=rivers.set_index('NAME').geometry.apply\\\n",
    "(lambda g: largeAirports.set_index('name').geometry.distance(g)/1000).\\\n",
    "sort_index(axis=0).sort_index(axis=1)\n",
    "distanceMatrixKM_riv_air"
   ]
  },
  {
   "cell_type": "code",
   "execution_count": null,
   "id": "4e920127",
   "metadata": {},
   "outputs": [],
   "source": [
    "distanceMatrixKM_riv_air.loc['Rio Grande, South America'].sort_values()"
   ]
  },
  {
   "cell_type": "code",
   "execution_count": null,
   "id": "cddf7e9b",
   "metadata": {},
   "outputs": [],
   "source": [
    "#graficar mapa interactivo\n",
    "base=rivers[rivers.NAME.str.contains('Grande')].explore()\n",
    "largeAirports.explore(m=base,color='red',marker_kwds=dict(radius=10))"
   ]
  },
  {
   "cell_type": "code",
   "execution_count": null,
   "id": "13d08b58",
   "metadata": {},
   "outputs": [],
   "source": [
    "rivers[~rivers.SYSTEM.isna()]"
   ]
  },
  {
   "cell_type": "code",
   "execution_count": null,
   "id": "4e033b40",
   "metadata": {},
   "outputs": [],
   "source": [
    "systems=rivers.dissolve(by='SYSTEM')\n",
    "systems"
   ]
  },
  {
   "cell_type": "code",
   "execution_count": null,
   "id": "6c9e67cb",
   "metadata": {},
   "outputs": [],
   "source": [
    "# format the GDF:\n",
    "systems['NAME']=systems.index\n",
    "systems.reset_index(drop=True,inplace=True)\n",
    "systems"
   ]
  },
  {
   "cell_type": "code",
   "execution_count": null,
   "id": "a2ebaa51",
   "metadata": {},
   "outputs": [],
   "source": [
    "#vero los aeropuertos cercanos a un sistema de ríos\n",
    "distanceMatrixKM_sys_air=systems.set_index('NAME').geometry.apply\\\n",
    "(lambda g: largeAirports.set_index('name').geometry.distance(g)/1000).\\\n",
    "sort_index(axis=0).sort_index(axis=1)\n",
    "\n",
    "distanceMatrixKM_sys_air"
   ]
  },
  {
   "cell_type": "code",
   "execution_count": null,
   "id": "6a6c2213",
   "metadata": {},
   "outputs": [],
   "source": [
    "mins=distanceMatrixKM_sys_air.idxmin(axis=\"columns\")\n",
    "mins"
   ]
  },
  {
   "cell_type": "code",
   "execution_count": null,
   "id": "3640bcbb",
   "metadata": {},
   "outputs": [],
   "source": [
    "# one of them\n",
    "mins[1]"
   ]
  },
  {
   "cell_type": "code",
   "execution_count": null,
   "id": "5519389d",
   "metadata": {},
   "outputs": [],
   "source": [
    "base=systems.explore()\n",
    "# the closest\n",
    "largeAirports[largeAirports.name.isin(mins)].explore(m=base,color='red',marker_kwds=dict(radius=10))\n",
    "# the NOT closest\n",
    "largeAirports[~largeAirports.name.isin(mins)].explore(m=base,color='blue',marker_kwds=dict(radius=5))"
   ]
  },
  {
   "cell_type": "code",
   "execution_count": null,
   "id": "5da6778f",
   "metadata": {},
   "outputs": [],
   "source": [
    "#Ejercicio 4 (uso de buffers) más preciso que el hull, como hull pero uno le da los parámetros(distancias desde un punto) y lo dibuja"
   ]
  },
  {
   "cell_type": "code",
   "execution_count": null,
   "id": "12124bdf",
   "metadata": {},
   "outputs": [],
   "source": [
    "# remember:\n",
    "distanceMatrixKM_riv_air"
   ]
  },
  {
   "cell_type": "code",
   "execution_count": null,
   "id": "ba8bce31",
   "metadata": {},
   "outputs": [],
   "source": [
    "# getting a value (it can be any value)\n",
    "distanceMatrixKM_riv_air.loc['Amazon'].min()"
   ]
  },
  {
   "cell_type": "code",
   "execution_count": null,
   "id": "47113a69",
   "metadata": {},
   "outputs": [],
   "source": [
    "#volvemos a metros porque ananconda trabaaja con proyecciones en metros\n",
    "minMts=distanceMatrixKM_riv_air.loc['Amazon'].min()*1000\n",
    "\n",
    "#the buffer is a polygon:\n",
    "rivers[rivers.NAME=='Amazon'].buffer(distance = minMts)"
   ]
  },
  {
   "cell_type": "code",
   "execution_count": null,
   "id": "80d6f12b",
   "metadata": {},
   "outputs": [],
   "source": [
    "# see buffer:\n",
    "bufferAroundAmazon=rivers[rivers.NAME=='Amazon'].buffer(distance = minMts)\n",
    "bufferAsBase=bufferAroundAmazon.explore(color='red')\n",
    "rivers[rivers.NAME=='Amazon'].explore(m=bufferAsBase,color='blue',style_kwds={'weight':0.5})"
   ]
  },
  {
   "cell_type": "code",
   "execution_count": null,
   "id": "632687cf",
   "metadata": {},
   "outputs": [],
   "source": [
    "small_airports=airports[airports.kind=='small_airport']\n",
    "\n",
    "# plotting\n",
    "rivers[rivers.NAME=='Amazon'].explore(m=bufferAsBase,color='blue',style_kwds={'weight':0.5})\n",
    "small_airports.explore(m=bufferAsBase,color='black')"
   ]
  },
  {
   "cell_type": "code",
   "execution_count": null,
   "id": "27d7e5aa",
   "metadata": {},
   "outputs": [],
   "source": [
    "#clipeamos los aeropuertos que están solo en el buffer\n",
    "riversWithinBuffer=small_airports.clip(mask=bufferAroundAmazon)\n",
    "#\n",
    "riversWithinBuffer"
   ]
  },
  {
   "cell_type": "code",
   "execution_count": null,
   "id": "2a147215",
   "metadata": {},
   "outputs": [],
   "source": [
    "bufferAsBase=bufferAroundAmazon.explore(color='red')\n",
    "rivers[rivers.NAME=='Amazon'].explore(m=bufferAsBase,color='blue',style_kwds={'weight':0.5})\n",
    "riversWithinBuffer.explore(m=bufferAsBase,color='black')"
   ]
  },
  {
   "cell_type": "code",
   "execution_count": null,
   "id": "857b5dd0",
   "metadata": {},
   "outputs": [],
   "source": [
    "# minimum of all the minimum by row\n",
    "distanceMatrixKM_riv_air.min(axis=1).min() "
   ]
  },
  {
   "cell_type": "code",
   "execution_count": null,
   "id": "0594eb4f",
   "metadata": {},
   "outputs": [],
   "source": [
    "# using the previous value\n",
    "minMinMts_5=5*distanceMatrixKM_riv_air.min(axis=1).min()*1000\n",
    "\n",
    "\n",
    "allMinBuffer=rivers.buffer(distance = minMinMts_5).explore(color='red')\n",
    "rivers.explore(m=allMinBuffer,color='blue',style_kwds={'weight':0.5})\n",
    "small_airports.explore(m=allMinBuffer,color='black')"
   ]
  },
  {
   "cell_type": "code",
   "execution_count": null,
   "id": "d898f56e",
   "metadata": {},
   "outputs": [],
   "source": [
    "#buffers de los mínimos\n",
    "# you see all the buffer polygons:\n",
    "rivers.buffer(distance = minMinMts_5)"
   ]
  },
  {
   "cell_type": "code",
   "execution_count": null,
   "id": "9a6b6740",
   "metadata": {},
   "outputs": [],
   "source": [
    "# notice\n",
    "riversAll_buf=rivers.buffer(distance = minMinMts_5)\n",
    "type(riversAll_buf)"
   ]
  },
  {
   "cell_type": "code",
   "execution_count": null,
   "id": "c12c4a7c",
   "metadata": {},
   "outputs": [],
   "source": [
    "# formatting\n",
    "riversAll_bufDF=riversAll_buf.to_frame()\n",
    "riversAll_bufDF.rename(columns={0:'geometry'},inplace=True)\n",
    "riversAll_bufDF = riversAll_bufDF.set_geometry(\"geometry\")\n",
    "riversAll_bufDF.crs"
   ]
  },
  {
   "cell_type": "code",
   "execution_count": null,
   "id": "28e7dafc",
   "metadata": {},
   "outputs": [],
   "source": [
    "#todos los ríos dentro del buffer\n",
    "allRiversWithinBuffs=small_airports.clip(riversAll_bufDF)\n",
    "allRiversWithinBuffs"
   ]
  },
  {
   "cell_type": "code",
   "execution_count": null,
   "id": "ee0db09b",
   "metadata": {},
   "outputs": [],
   "source": [
    "# simple\n",
    "base=riversAll_bufDF.plot(color='yellow')\n",
    "allRiversWithinBuffs.plot(ax=base, color='green', markersize=1)"
   ]
  },
  {
   "cell_type": "code",
   "execution_count": null,
   "id": "4fdc53cc",
   "metadata": {},
   "outputs": [],
   "source": [
    "# folium\n",
    "\n",
    "base=riversAll_bufDF.explore(color='yellow')\n",
    "allRiversWithinBuffs.explore(m=base, color='green')"
   ]
  }
 ],
 "metadata": {
  "kernelspec": {
   "display_name": "Python 3 (ipykernel)",
   "language": "python",
   "name": "python3"
  },
  "language_info": {
   "codemirror_mode": {
    "name": "ipython",
    "version": 3
   },
   "file_extension": ".py",
   "mimetype": "text/x-python",
   "name": "python",
   "nbconvert_exporter": "python",
   "pygments_lexer": "ipython3",
   "version": "3.10.11"
  }
 },
 "nbformat": 4,
 "nbformat_minor": 5
}
